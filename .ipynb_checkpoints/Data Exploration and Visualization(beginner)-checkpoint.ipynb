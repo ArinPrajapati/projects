{
 "cells": [
  {
   "cell_type": "code",
   "execution_count": 6,
   "id": "49513ba0",
   "metadata": {},
   "outputs": [
    {
     "name": "stdout",
     "output_type": "stream",
     "text": [
      "Warning: Cannot change to a different GUI toolkit: widget. Using ipympl instead.\n"
     ]
    }
   ],
   "source": [
    "%matplotlib widget\n",
    "import matplotlib.pyplot as plt\n",
    "import pandas as pd\n",
    "import numpy as np"
   ]
  },
  {
   "cell_type": "code",
   "execution_count": 7,
   "id": "c361f9ea",
   "metadata": {},
   "outputs": [],
   "source": [
    "sales = pd.read_csv('./data_set/simple_vegetable_sales_data.csv')"
   ]
  },
  {
   "cell_type": "code",
   "execution_count": 8,
   "id": "8b403c3a",
   "metadata": {
    "scrolled": true
   },
   "outputs": [
    {
     "name": "stdout",
     "output_type": "stream",
     "text": [
      "     Month Supplier_Name  Sales(kg)\n",
      "0        1          Aldi    3251.27\n",
      "1        1     Carrefour    3895.01\n",
      "2        1        Costco    3344.06\n",
      "3        1        Kroger    3679.11\n",
      "4        1          Lidl    4811.10\n",
      "..     ...           ...        ...\n",
      "355     36         Metro    3469.36\n",
      "356     36       Schwarz    4791.91\n",
      "357     36        Target    2924.72\n",
      "358     36         Tesco    3777.29\n",
      "359     36       Walmart    3558.83\n",
      "\n",
      "[360 rows x 3 columns]\n"
     ]
    }
   ],
   "source": [
    "# gruop\n",
    "result = sales.groupby(['Month','Supplier_Name'])['Sales(kg)'].sum().reset_index()\n",
    "print(result)"
   ]
  },
  {
   "cell_type": "code",
   "execution_count": 9,
   "id": "a43ffd44",
   "metadata": {
    "scrolled": true
   },
   "outputs": [
    {
     "name": "stdout",
     "output_type": "stream",
     "text": [
      "total sales in all years\n",
      "  \n",
      "Supplier_Name\n",
      "Aldi         116172.12\n",
      "Carrefour    146832.92\n",
      "Costco       117367.56\n",
      "Kroger       142319.16\n",
      "Lidl         174825.05\n",
      "Metro        131748.24\n",
      "Schwarz      169104.68\n",
      "Target       111729.11\n",
      "Tesco        140515.41\n",
      "Walmart      131661.80\n",
      "Name: Sales(kg), dtype: float64\n"
     ]
    }
   ],
   "source": [
    "print(\"total sales in all years\")\n",
    "print(\"  \")\n",
    "result = sales.groupby('Supplier_Name')['Sales(kg)'].sum()\n",
    "print(result)"
   ]
  },
  {
   "cell_type": "code",
   "execution_count": 10,
   "id": "1e9ddc16",
   "metadata": {},
   "outputs": [
    {
     "data": {
      "text/plain": [
       "count         360\n",
       "unique         10\n",
       "top       Walmart\n",
       "freq           36\n",
       "Name: Supplier_Name, dtype: object"
      ]
     },
     "execution_count": 10,
     "metadata": {},
     "output_type": "execute_result"
    }
   ],
   "source": [
    "sales[\"Supplier_Name\"].describe()"
   ]
  },
  {
   "cell_type": "code",
   "execution_count": 73,
   "id": "90c85931",
   "metadata": {
    "scrolled": true
   },
   "outputs": [],
   "source": [
    "total_sales = sales.groupby(['Supplier_Name', 'Month'])['Sales(kg)'].sum().reset_index()\n",
    "\n",
    "\n",
    "top_months = total_sales.loc[total_sales.groupby('Supplier_Name')['Sales(kg)'].idxmax()]\n",
    "\n",
    "# Plot the bar chart\n",
    "plt.figure(figsize=(12, 3))\n",
    "plt.bar(total_sales['Supplier_Name'], total_sales['Sales(kg)'], color='lightblue', label='Total Sales')\n",
    "plt.scatter(top_months['Supplier_Name'], top_months['Sales(kg)'], color='red', marker='o', label='Top Month')\n",
    " \n",
    "plt.title('Total Sales by Supplier with Top Months Highlighted')\n",
    "plt.xlabel('Supplier Name')\n",
    "plt.ylabel('Total Sales(kg)')\n",
    "plt.legend()\n",
    "plt.show()"
   ]
  }
 ],
 "metadata": {
  "kernelspec": {
   "display_name": "Python 3 (ipykernel)",
   "language": "python",
   "name": "python3"
  },
  "language_info": {
   "codemirror_mode": {
    "name": "ipython",
    "version": 3
   },
   "file_extension": ".py",
   "mimetype": "text/x-python",
   "name": "python",
   "nbconvert_exporter": "python",
   "pygments_lexer": "ipython3",
   "version": "3.11.5"
  }
 },
 "nbformat": 4,
 "nbformat_minor": 5
}
